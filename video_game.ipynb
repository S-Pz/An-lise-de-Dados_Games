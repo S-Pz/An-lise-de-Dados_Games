{
 "cells": [
  {
   "cell_type": "code",
   "execution_count": 1,
   "metadata": {},
   "outputs": [],
   "source": [
    "import pandas as pd"
   ]
  },
  {
   "cell_type": "code",
   "execution_count": 2,
   "metadata": {},
   "outputs": [],
   "source": [
    "xbox = pd.read_csv(\"./datasets/video_games/XboxOne_GameSales.csv\")\n",
    "ps4 = pd.read_csv(\"./datasets/video_games/PS4_GamesSales.csv\")\n",
    "sales = pd.read_csv(\"./datasets/video_games/Video_Games_Sales_as_at_22_Dec_2016.csv\")"
   ]
  },
  {
   "cell_type": "code",
   "execution_count": 3,
   "id": "2183ab2b",
   "metadata": {},
   "outputs": [
    {
     "data": {
      "text/plain": [
       "Index(['Game', 'Year', 'Genre', 'Publisher', 'North America', 'Europe',\n",
       "       'Japan', 'Rest of World', 'Global', 'Unnamed: 9'],\n",
       "      dtype='object')"
      ]
     },
     "execution_count": 3,
     "metadata": {},
     "output_type": "execute_result"
    }
   ],
   "source": [
    "xbox.Year = pd.to_numeric(xbox.Year, errors=\"coerce\")\n",
    "ps4.columns"
   ]
  },
  {
   "cell_type": "code",
   "execution_count": 4,
   "metadata": {},
   "outputs": [
    {
     "data": {
      "text/plain": [
       "array(['Wii', 'NES', 'GB', 'DS', 'X360', 'PS3', 'PS2', 'SNES', 'GBA',\n",
       "       'PS4', '3DS', 'N64', 'PS', 'XB', 'PC', '2600', 'PSP', 'XOne',\n",
       "       'WiiU', 'GC', 'GEN', 'DC', 'PSV', 'SAT', 'SCD', 'WS', 'NG', 'TG16',\n",
       "       '3DO', 'GG', 'PCFX'], dtype=object)"
      ]
     },
     "execution_count": 4,
     "metadata": {},
     "output_type": "execute_result"
    }
   ],
   "source": [
    "sales[\"Platform\"].unique()"
   ]
  },
  {
   "cell_type": "code",
   "execution_count": 5,
   "metadata": {},
   "outputs": [
    {
     "data": {
      "text/html": [
       "<div>\n",
       "<style scoped>\n",
       "    .dataframe tbody tr th:only-of-type {\n",
       "        vertical-align: middle;\n",
       "    }\n",
       "\n",
       "    .dataframe tbody tr th {\n",
       "        vertical-align: top;\n",
       "    }\n",
       "\n",
       "    .dataframe thead th {\n",
       "        text-align: right;\n",
       "    }\n",
       "</style>\n",
       "<table border=\"1\" class=\"dataframe\">\n",
       "  <thead>\n",
       "    <tr style=\"text-align: right;\">\n",
       "      <th></th>\n",
       "      <th>Name</th>\n",
       "      <th>Platform</th>\n",
       "      <th>Year_of_Release</th>\n",
       "      <th>Genre</th>\n",
       "      <th>Publisher</th>\n",
       "      <th>NA_Sales</th>\n",
       "      <th>EU_Sales</th>\n",
       "      <th>JP_Sales</th>\n",
       "      <th>Other_Sales</th>\n",
       "      <th>Global_Sales</th>\n",
       "      <th>Critic_Score</th>\n",
       "      <th>Critic_Count</th>\n",
       "      <th>User_Score</th>\n",
       "      <th>User_Count</th>\n",
       "      <th>Developer</th>\n",
       "      <th>Rating</th>\n",
       "    </tr>\n",
       "  </thead>\n",
       "  <tbody>\n",
       "    <tr>\n",
       "      <th>15375</th>\n",
       "      <td>Final Approach 2: 1st Priority</td>\n",
       "      <td>PS2</td>\n",
       "      <td>2008.0</td>\n",
       "      <td>Adventure</td>\n",
       "      <td>Princess Soft</td>\n",
       "      <td>0.00</td>\n",
       "      <td>0.0</td>\n",
       "      <td>0.02</td>\n",
       "      <td>0.00</td>\n",
       "      <td>0.02</td>\n",
       "      <td>NaN</td>\n",
       "      <td>NaN</td>\n",
       "      <td>NaN</td>\n",
       "      <td>NaN</td>\n",
       "      <td>NaN</td>\n",
       "      <td>NaN</td>\n",
       "    </tr>\n",
       "    <tr>\n",
       "      <th>2105</th>\n",
       "      <td>WWE SmackDown vs Raw 2008</td>\n",
       "      <td>Wii</td>\n",
       "      <td>2007.0</td>\n",
       "      <td>Fighting</td>\n",
       "      <td>THQ</td>\n",
       "      <td>0.38</td>\n",
       "      <td>0.5</td>\n",
       "      <td>0.00</td>\n",
       "      <td>0.11</td>\n",
       "      <td>0.98</td>\n",
       "      <td>59.0</td>\n",
       "      <td>13.0</td>\n",
       "      <td>5.9</td>\n",
       "      <td>18.0</td>\n",
       "      <td>Yuke's</td>\n",
       "      <td>T</td>\n",
       "    </tr>\n",
       "    <tr>\n",
       "      <th>7319</th>\n",
       "      <td>College Hoops 2K7</td>\n",
       "      <td>X360</td>\n",
       "      <td>2006.0</td>\n",
       "      <td>Sports</td>\n",
       "      <td>Take-Two Interactive</td>\n",
       "      <td>0.20</td>\n",
       "      <td>0.0</td>\n",
       "      <td>0.00</td>\n",
       "      <td>0.02</td>\n",
       "      <td>0.21</td>\n",
       "      <td>82.0</td>\n",
       "      <td>22.0</td>\n",
       "      <td>8.2</td>\n",
       "      <td>12.0</td>\n",
       "      <td>2K Sports</td>\n",
       "      <td>E</td>\n",
       "    </tr>\n",
       "  </tbody>\n",
       "</table>\n",
       "</div>"
      ],
      "text/plain": [
       "                                 Name Platform  Year_of_Release      Genre  \\\n",
       "15375  Final Approach 2: 1st Priority      PS2           2008.0  Adventure   \n",
       "2105        WWE SmackDown vs Raw 2008      Wii           2007.0   Fighting   \n",
       "7319                College Hoops 2K7     X360           2006.0     Sports   \n",
       "\n",
       "                  Publisher  NA_Sales  EU_Sales  JP_Sales  Other_Sales  \\\n",
       "15375         Princess Soft      0.00       0.0      0.02         0.00   \n",
       "2105                    THQ      0.38       0.5      0.00         0.11   \n",
       "7319   Take-Two Interactive      0.20       0.0      0.00         0.02   \n",
       "\n",
       "       Global_Sales  Critic_Score  Critic_Count  User_Score  User_Count  \\\n",
       "15375          0.02           NaN           NaN         NaN         NaN   \n",
       "2105           0.98          59.0          13.0         5.9        18.0   \n",
       "7319           0.21          82.0          22.0         8.2        12.0   \n",
       "\n",
       "       Developer Rating  \n",
       "15375        NaN    NaN  \n",
       "2105      Yuke's      T  \n",
       "7319   2K Sports      E  "
      ]
     },
     "execution_count": 5,
     "metadata": {},
     "output_type": "execute_result"
    }
   ],
   "source": [
    "sales.sample(3)"
   ]
  },
  {
   "cell_type": "code",
   "execution_count": 7,
   "metadata": {},
   "outputs": [
    {
     "data": {
      "text/html": [
       "<div>\n",
       "<style scoped>\n",
       "    .dataframe tbody tr th:only-of-type {\n",
       "        vertical-align: middle;\n",
       "    }\n",
       "\n",
       "    .dataframe tbody tr th {\n",
       "        vertical-align: top;\n",
       "    }\n",
       "\n",
       "    .dataframe thead th {\n",
       "        text-align: right;\n",
       "    }\n",
       "</style>\n",
       "<table border=\"1\" class=\"dataframe\">\n",
       "  <thead>\n",
       "    <tr style=\"text-align: right;\">\n",
       "      <th></th>\n",
       "      <th>Game</th>\n",
       "      <th>Year</th>\n",
       "      <th>Genre</th>\n",
       "      <th>Publisher</th>\n",
       "      <th>North America</th>\n",
       "      <th>Europe</th>\n",
       "      <th>Japan</th>\n",
       "      <th>Rest of World</th>\n",
       "      <th>Global</th>\n",
       "      <th>Unnamed: 9</th>\n",
       "    </tr>\n",
       "  </thead>\n",
       "  <tbody>\n",
       "    <tr>\n",
       "      <th>316</th>\n",
       "      <td>Elex</td>\n",
       "      <td>2017</td>\n",
       "      <td>Role-Playing</td>\n",
       "      <td>THQ Nordic</td>\n",
       "      <td>0.03</td>\n",
       "      <td>0.16</td>\n",
       "      <td>0.0</td>\n",
       "      <td>0.04</td>\n",
       "      <td>0.23</td>\n",
       "      <td>NaN</td>\n",
       "    </tr>\n",
       "  </tbody>\n",
       "</table>\n",
       "</div>"
      ],
      "text/plain": [
       "     Game  Year         Genre   Publisher North America  Europe  Japan  \\\n",
       "316  Elex  2017  Role-Playing  THQ Nordic          0.03    0.16    0.0   \n",
       "\n",
       "     Rest of World  Global  Unnamed: 9  \n",
       "316           0.04    0.23         NaN  "
      ]
     },
     "execution_count": 7,
     "metadata": {},
     "output_type": "execute_result"
    }
   ],
   "source": [
    "ps4.sample()"
   ]
  },
  {
   "cell_type": "markdown",
   "metadata": {},
   "source": [
    "### Problemas\n",
    "\n",
    "1. Como podemos definir agora, entre PS4 e XBox quem teve maior venda na Europa no ano de 2018?\n",
    "2. Qual Publisher teve maior venda Global ao decorrer dos anos?\n",
    "3. Como fazer o comparativo de notas (Rating) baseado nas Plataformas?\n",
    "4. Como gerar um gráfico das notas de uma plataforma?"
   ]
  },
  {
   "cell_type": "markdown",
   "id": "104dc506",
   "metadata": {},
   "source": [
    "1.Questão do maior número de vendas"
   ]
  },
  {
   "cell_type": "code",
   "execution_count": 42,
   "metadata": {},
   "outputs": [
    {
     "name": "stdout",
     "output_type": "stream",
     "text": [
      "Ps4 foi o que vendeu mais no ano 2018 : 57.18\n"
     ]
    }
   ],
   "source": [
    "sales_xbox = xbox[['Game','Publisher','Year','Europe']].loc[xbox['Year'] == '2017']\n",
    "sales_ps4 = ps4[['Game','Publisher','Year','Europe']].loc[ps4['Year'] == '2017']\n",
    "\n",
    "if sales_xbox['Europe'].sum() > sales_ps4['Europe'].sum():\n",
    "    \n",
    "    print(f\"Xbox foi o que vendeu mais no ano 2018: \" , round(sales_xbox['Europe'].sum(),3))\n",
    "else:\n",
    "    print(f\"Ps4 foi o que vendeu mais no ano 2018 :\" , round(sales_ps4['Europe'].sum(),3))\n"
   ]
  },
  {
   "cell_type": "markdown",
   "id": "01039d4f",
   "metadata": {},
   "source": [
    "3.Montagem do maior número de vendas, de acordo com o publisher"
   ]
  },
  {
   "cell_type": "code",
   "execution_count": 5,
   "id": "8a711452",
   "metadata": {},
   "outputs": [
    {
     "data": {
      "image/png": "[encoded data removed]",
      "text/plain": [
       "<Figure size 640x480 with 1 Axes>"
      ]
     },
     "metadata": {},
     "output_type": "display_data"
    }
   ],
   "source": [
    "publisher_sales = sales[['Publisher','Global_Sales']]\n",
    "\n",
    "most_publisher = publisher_sales.groupby('Publisher').sum()\n",
    "most_publisher = most_publisher.sort_values(by ='Global_Sales', ascending=False).plot()"
   ]
  },
  {
   "cell_type": "markdown",
   "id": "e3daf7dc",
   "metadata": {},
   "source": [
    "4.Montagem de gráfico do maior score"
   ]
  },
  {
   "cell_type": "code",
   "execution_count": 8,
   "id": "4558f1fd",
   "metadata": {},
   "outputs": [
    {
     "data": {
      "image/png": "[encoded data removed]",
      "text/plain": [
       "<Figure size 640x480 with 1 Axes>"
      ]
     },
     "metadata": {},
     "output_type": "display_data"
    }
   ],
   "source": [
    "platafomrs = sales[[ 'Platform','User_Score']]\n",
    "rating_plat = platafomrs.groupby('Platform').sum()\n",
    "most_rating = rating_plat.sort_values(by = 'User_Score',ascending= False).plot()\n"
   ]
  },
  {
   "cell_type": "code",
   "execution_count": null,
   "id": "1b25cb5e",
   "metadata": {},
   "outputs": [],
   "source": []
  }
 ],
 "metadata": {
  "kernelspec": {
   "display_name": "Python 3.10.6 64-bit",
   "language": "python",
   "name": "python3"
  },
  "language_info": {
   "codemirror_mode": {
    "name": "ipython",
    "version": 3
   },
   "file_extension": ".py",
   "mimetype": "text/x-python",
   "name": "python",
   "nbconvert_exporter": "python",
   "pygments_lexer": "ipython3",
   "version": "3.10.6"
  },
  "vscode": {
   "interpreter": {
    "hash": "916dbcbb3f70747c44a77c7bcd40155683ae19c65e1c03b4aa3499c5328201f1"
   }
  }
 },
 "nbformat": 4,
 "nbformat_minor": 5
}
